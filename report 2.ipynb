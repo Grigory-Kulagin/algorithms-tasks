{
 "cells": [
  {
   "cell_type": "code",
   "execution_count": 1,
   "metadata": {},
   "outputs": [],
   "source": [
    "from scipy.optimize import minimize\n",
    "import numpy as np\n",
    "from sklearn.metrics import mean_squared_error\n",
    "from matplotlib import pyplot as plt"
   ]
  },
  {
   "cell_type": "code",
   "execution_count": 2,
   "metadata": {},
   "outputs": [],
   "source": [
    "params = {'legend.fontsize': 'x-large',\n",
    "          'figure.figsize': (15, 5),\n",
    "         'axes.labelsize': 'x-large',\n",
    "         'axes.titlesize':'x-large',\n",
    "         'xtick.labelsize':'x-large',\n",
    "         'ytick.labelsize':'x-large'}\n",
    "\n",
    "plt.rcParams.update(params)"
   ]
  },
  {
   "cell_type": "code",
   "execution_count": 3,
   "metadata": {},
   "outputs": [],
   "source": [
    "# one-dimensional exhaustive searh method\n",
    "def ex_s(f, epsilon, boundares):\n",
    "    l, r = boundares[0], boundares[1]\n",
    "    n = int((r - l) / epsilon + 1)\n",
    "    dx = (r - l) / n\n",
    "    x_min = l\n",
    "    f_min = f(x_min)\n",
    "    for k in range(1, n+1):\n",
    "        x = l + k * dx\n",
    "        func = f(x)\n",
    "        if func < f_min:\n",
    "            f_min = func\n",
    "            x_min = x\n",
    "    print('Number of 𝑓-calculations:', n + 1)\n",
    "    print('Number of iterations:', n)\n",
    "    return x_min"
   ]
  },
  {
   "cell_type": "code",
   "execution_count": 4,
   "metadata": {},
   "outputs": [],
   "source": [
    "# one-dimensional dichotomy method\n",
    "def dich_m(f, epsilon, boundares, delta = None):\n",
    "    n_iter = 0\n",
    "    n_func = 0\n",
    "    a, b = boundares[0], boundares[1]\n",
    "    if not delta:\n",
    "        delta = epsilon / 2\n",
    "    while (b - a) > epsilon:\n",
    "        x1 = (a + b - delta) / 2\n",
    "        x2 = (a + b + delta) / 2\n",
    "        if f(x1) <= f(x2):\n",
    "            b = x2\n",
    "        else:\n",
    "            a = x1\n",
    "        n_iter += 1\n",
    "        n_func += 2\n",
    "    print('Number of 𝑓-calculations:', n_func)\n",
    "    print('Number of iterations:', n_iter)\n",
    "    return (a + b) / 2\n"
   ]
  },
  {
   "cell_type": "code",
   "execution_count": 5,
   "metadata": {},
   "outputs": [],
   "source": [
    "# one-dimensional golden section method\n",
    "def gold_sect(f, epsilon, boundares):\n",
    "    n_iter = 0\n",
    "    n_func = 0\n",
    "    a, b = boundares\n",
    "    delta = (3 - 5**0.5) / 2\n",
    "    x1 = a + delta * (b - a)\n",
    "    x2 = b - delta * (b - a) \n",
    "    f1 = f(x1)\n",
    "    f2 = f(x2)\n",
    "    n_func += 2\n",
    "    while (b - a) > epsilon:\n",
    "        if f1 <= f2:\n",
    "            b = x2\n",
    "            x2 = x1\n",
    "            x1 = a + delta * (b - a)\n",
    "            f2 = f1\n",
    "            f1 = f(x1)\n",
    "            n_func += 1\n",
    "        else:\n",
    "            a = x1\n",
    "            x1 = x2\n",
    "            x2 = b - delta * (b - a)\n",
    "            f1 = f2\n",
    "            f2 = f(x2)\n",
    "            n_func += 1\n",
    "        n_iter += 1\n",
    "    \n",
    "    return (a + b) / 2, n_func, n_iter\n",
    "\n"
   ]
  },
  {
   "cell_type": "code",
   "execution_count": 6,
   "metadata": {},
   "outputs": [],
   "source": [
    "# two-dimensional exhaustive searh method\n",
    "def ex_s_2d(f, epsilon, boundares):\n",
    "    x1, x2 = boundares[0] \n",
    "    y1, y2 = boundares[1]\n",
    "    nx = int((x2 - x1) / epsilon + 1)\n",
    "    ny = int((y2 - y1) / epsilon + 1)\n",
    "    dx = (x2 - x1) / nx\n",
    "    dy = (y2 - y1) / ny\n",
    "    x_min = x1\n",
    "    y_min = y1\n",
    "    f_min = f(x_min, y_min)\n",
    "    for i in range(nx+1):\n",
    "        for j in range(ny+1):\n",
    "            x = x1 + i * dx\n",
    "            y = y1 + j * dy\n",
    "            func = f(x, y)\n",
    "            if func < f_min:\n",
    "                f_min = func\n",
    "                x_min = x\n",
    "                y_min = y\n",
    "    \n",
    "    print('Number of 𝑓-calculations:', (nx + 1) * (ny + 1))\n",
    "    print('Number of iterations:', (nx + 1) * (ny + 1))\n",
    "    \n",
    "    return [x_min, y_min]"
   ]
  },
  {
   "cell_type": "code",
   "execution_count": 7,
   "metadata": {},
   "outputs": [],
   "source": [
    "# two-dimensional Gauss method\n",
    "def gaus_m(f, epsilon, boundares, initial_x_y=(0, 1)):\n",
    "    n_iter = 0\n",
    "    n_func = 0\n",
    "    \n",
    "    x, y = initial_x_y\n",
    "    \n",
    "    while True:\n",
    "        x_old = x\n",
    "        y_old = y\n",
    "        x, fun, it = gold_sect(lambda x: f(x, y_old), epsilon, boundares[0])\n",
    "        n_iter += 1\n",
    "        n_func += fun\n",
    "        y, fun, it = gold_sect(lambda y: f(x, y), epsilon, boundares[1])\n",
    "        n_iter += 1\n",
    "        n_func += fun\n",
    "        if abs(x-x_old) < epsilon and abs(y-y_old) < epsilon:\n",
    "            break\n",
    "    print('Number of 𝑓-calculations:', n_func)\n",
    "    print('Number of iterations:', n_iter)\n",
    "    return [x, y]\n"
   ]
  },
  {
   "cell_type": "code",
   "execution_count": 8,
   "metadata": {},
   "outputs": [],
   "source": [
    "#difinition of different functions\n",
    "def f1(x):\n",
    "    return x**3\n",
    "\n",
    "def f2(x):\n",
    "    return np.abs(x - 0.2)\n",
    "\n",
    "def f3(x):\n",
    "    return x * np.sin(1 / x)"
   ]
  },
  {
   "cell_type": "markdown",
   "metadata": {},
   "source": [
    "One-dimensional minimization by different functions:"
   ]
  },
  {
   "cell_type": "code",
   "execution_count": 9,
   "metadata": {},
   "outputs": [
    {
     "name": "stdout",
     "output_type": "stream",
     "text": [
      "Number of 𝑓-calculations: 1001\n",
      "Number of iterations: 1000\n"
     ]
    },
    {
     "data": {
      "text/plain": [
       "0.22277800000000003"
      ]
     },
     "execution_count": 9,
     "metadata": {},
     "output_type": "execute_result"
    }
   ],
   "source": [
    "eps = 0.001\n",
    "ex_s(f3, eps, (0.001, 1))"
   ]
  },
  {
   "cell_type": "code",
   "execution_count": 10,
   "metadata": {},
   "outputs": [
    {
     "name": "stdout",
     "output_type": "stream",
     "text": [
      "Number of 𝑓-calculations: 22\n",
      "Number of iterations: 11\n"
     ]
    },
    {
     "data": {
      "text/plain": [
       "0.04244787597656249"
      ]
     },
     "execution_count": 10,
     "metadata": {},
     "output_type": "execute_result"
    }
   ],
   "source": [
    "dich_m(f3, eps, (0.001, 1))"
   ]
  },
  {
   "cell_type": "code",
   "execution_count": 11,
   "metadata": {},
   "outputs": [
    {
     "data": {
      "text/plain": [
       "(0.22259084119572914, 17, 15)"
      ]
     },
     "execution_count": 11,
     "metadata": {},
     "output_type": "execute_result"
    }
   ],
   "source": [
    "gold_sect(f3, eps, (0.001, 1))"
   ]
  },
  {
   "cell_type": "code",
   "execution_count": 12,
   "metadata": {},
   "outputs": [
    {
     "data": {
      "text/plain": [
       "Text(0, 0.5, '$f(x)$')"
      ]
     },
     "execution_count": 12,
     "metadata": {},
     "output_type": "execute_result"
    },
    {
     "data": {
      "image/png": "[encoded data removed]",
      "text/plain": [
       "<Figure size 1080x360 with 1 Axes>"
      ]
     },
     "metadata": {
      "needs_background": "light"
     },
     "output_type": "display_data"
    }
   ],
   "source": [
    "plt.figure(figsize=(15, 5))\n",
    "x = np.linspace(0.001, 1, 10000)\n",
    "plt.plot(x, f3(x))\n",
    "plt.xlabel('$x$')\n",
    "plt.ylabel('$f(x)$')"
   ]
  },
  {
   "cell_type": "code",
   "execution_count": 19,
   "metadata": {},
   "outputs": [],
   "source": [
    "#Generation of experemental data\n",
    "alpha = 0.62\n",
    "beta = 0.37\n",
    "x = np.array(range(1, 101)) / 100\n",
    "delta = np.random.normal(size=100)\n",
    "y = alpha * x + beta + delta"
   ]
  },
  {
   "cell_type": "code",
   "execution_count": 20,
   "metadata": {},
   "outputs": [],
   "source": [
    "#import  y from file\n",
    "y = np.loadtxt('data_y.txt')"
   ]
  },
  {
   "cell_type": "code",
   "execution_count": 30,
   "metadata": {},
   "outputs": [],
   "source": [
    "#Approximants definition \n",
    "def lin_fit(x, a, b):\n",
    "    return a*x + b\n",
    "\n",
    "def rat_fit(x, a, b):\n",
    "    return a / (1 + b * x)"
   ]
  },
  {
   "cell_type": "markdown",
   "metadata": {},
   "source": [
    "Linear approximation:"
   ]
  },
  {
   "cell_type": "code",
   "execution_count": 31,
   "metadata": {},
   "outputs": [],
   "source": [
    "def D_lin(a, b):\n",
    "    return mean_squared_error(lin_fit(x, a, b), y)\n",
    "\n",
    "def D_lin_NM(params):\n",
    "    a, b = params\n",
    "    if a >=0 and a <=1 and b >= 0 and b <=1:\n",
    "        return mean_squared_error(lin_fit(x, *params), y)\n",
    "    else:\n",
    "        return 1000"
   ]
  },
  {
   "cell_type": "code",
   "execution_count": 32,
   "metadata": {},
   "outputs": [],
   "source": [
    "a_lin_fit = np.zeros(3)\n",
    "b_lin_fit = np.zeros(3)"
   ]
  },
  {
   "cell_type": "code",
   "execution_count": 33,
   "metadata": {},
   "outputs": [
    {
     "name": "stdout",
     "output_type": "stream",
     "text": [
      "Number of 𝑓-calculations: 1004004\n",
      "Number of iterations: 1004004\n"
     ]
    },
    {
     "data": {
      "text/plain": [
       "(0.3116883116883117, 0.6193806193806194)"
      ]
     },
     "execution_count": 33,
     "metadata": {},
     "output_type": "execute_result"
    }
   ],
   "source": [
    "#Optimization by brute-force method\n",
    "a, b = ex_s_2d(D_lin, eps, ((0,1), (0, 1)))\n",
    "a_lin_fit[0] = a\n",
    "b_lin_fit[0] = b\n",
    "a, b"
   ]
  },
  {
   "cell_type": "code",
   "execution_count": 34,
   "metadata": {},
   "outputs": [
    {
     "name": "stdout",
     "output_type": "stream",
     "text": [
      "Number of 𝑓-calculations: 612\n",
      "Number of iterations: 36\n"
     ]
    },
    {
     "data": {
      "text/plain": [
       "(0.30842387373012625, 0.6210530736291806)"
      ]
     },
     "execution_count": 34,
     "metadata": {},
     "output_type": "execute_result"
    }
   ],
   "source": [
    "#Optimization by Gauss method\n",
    "a, b = gaus_m(D_lin, eps, ((0, 1), (0, 1)))\n",
    "a_lin_fit[1] = a\n",
    "b_lin_fit[1] = b\n",
    "a, b"
   ]
  },
  {
   "cell_type": "code",
   "execution_count": 35,
   "metadata": {},
   "outputs": [
    {
     "name": "stdout",
     "output_type": "stream",
     "text": [
      " final_simplex: (array([[0.3119764 , 0.61943253],\n",
      "       [0.31120123, 0.61955831],\n",
      "       [0.3113358 , 0.62004039]]), array([0.979221  , 0.97922101, 0.97922107]))\n",
      "           fun: 0.9792210034505194\n",
      "       message: 'Optimization terminated successfully.'\n",
      "          nfev: 83\n",
      "           nit: 44\n",
      "        status: 0\n",
      "       success: True\n",
      "             x: array([0.3119764 , 0.61943253])\n"
     ]
    },
    {
     "data": {
      "text/plain": [
       "(0.3119763987207042, 0.6194325271269168)"
      ]
     },
     "execution_count": 35,
     "metadata": {},
     "output_type": "execute_result"
    }
   ],
   "source": [
    "#Optimization by Nelde-Mead method\n",
    "print(minimize(D_lin_NM, x0=(0, 1), method='Nelder-Mead', options = {'xatol': eps}))\n",
    "a, b = minimize(D_lin_NM, x0=(0, 1), method='Nelder-Mead', options = {'xatol': eps}).x\n",
    "a_lin_fit[2] = a\n",
    "b_lin_fit[2] = b\n",
    "a, b"
   ]
  },
  {
   "cell_type": "code",
   "execution_count": 36,
   "metadata": {},
   "outputs": [],
   "source": [
    "labels = [f\"Brute-force: $y={round(a_lin_fit[0], 3)} \\cdot x +{round(b_lin_fit[0], 3)}$\", \n",
    "          f\"Gauss method: $y={round(a_lin_fit[1], 3)} \\cdot x +{round(b_lin_fit[1], 3)}$\",\n",
    "         f\"Nelder-Mead: $y={round(a_lin_fit[2], 3)} \\cdot x +{round(b_lin_fit[2], 3)}$\"]"
   ]
  },
  {
   "cell_type": "code",
   "execution_count": 37,
   "metadata": {},
   "outputs": [
    {
     "data": {
      "text/plain": [
       "<matplotlib.legend.Legend at 0x214e6f64fc8>"
      ]
     },
     "execution_count": 37,
     "metadata": {},
     "output_type": "execute_result"
    },
    {
     "data": {
      "image/png": "[encoded data removed]",
      "text/plain": [
       "<Figure size 1080x576 with 1 Axes>"
      ]
     },
     "metadata": {
      "needs_background": "light"
     },
     "output_type": "display_data"
    }
   ],
   "source": [
    "plt.figure(figsize=(15, 8))\n",
    "plt.scatter(x, y, label=f\"Generated data: $y={alpha} \\cdot x +{beta} + N(0,1)$\")\n",
    "for a, b, label in zip(a_lin_fit, b_lin_fit, labels):\n",
    "    plt.plot(x, lin_fit(x, a, b), label=label)\n",
    "plt.plot(x, lin_fit(x, alpha, beta), linestyle='--', label=f\"Theoretical equation: $y={alpha} \\cdot x +{beta}$\")\n",
    "\n",
    "plt.legend()"
   ]
  },
  {
   "cell_type": "code",
   "execution_count": 39,
   "metadata": {},
   "outputs": [
    {
     "name": "stdout",
     "output_type": "stream",
     "text": [
      "0.9792209973874785\n",
      "0.9792216541703058\n",
      "0.9792210034505194\n"
     ]
    }
   ],
   "source": [
    "#MSE for different methods\n",
    "for i in range(3):\n",
    "    print(D_lin(a_lin_fit[i], b_lin_fit[i]))"
   ]
  },
  {
   "cell_type": "markdown",
   "metadata": {},
   "source": [
    "Rational approximation:"
   ]
  },
  {
   "cell_type": "code",
   "execution_count": 40,
   "metadata": {},
   "outputs": [],
   "source": [
    "a_rat_fit = np.zeros(3)\n",
    "b_rat_fit = np.zeros(3)"
   ]
  },
  {
   "cell_type": "code",
   "execution_count": 41,
   "metadata": {},
   "outputs": [],
   "source": [
    "def D_rat(a, b):\n",
    "    return mean_squared_error(rat_fit(x, a, b), y)\n",
    "\n",
    "def D_rat_NM(params):\n",
    "    a, b = params\n",
    "    if a >=0 and a <=1 and b >= -1 and b <= 1:\n",
    "        return mean_squared_error(rat_fit(x, *params), y)\n",
    "    else:\n",
    "        return 1000"
   ]
  },
  {
   "cell_type": "code",
   "execution_count": 42,
   "metadata": {},
   "outputs": [
    {
     "name": "stdout",
     "output_type": "stream",
     "text": [
      "Number of 𝑓-calculations: 2005002\n",
      "Number of iterations: 2005002\n",
      "Wall time: 3min 51s\n"
     ]
    },
    {
     "data": {
      "text/plain": [
       "(0.6493506493506493, -0.307346)"
      ]
     },
     "execution_count": 42,
     "metadata": {},
     "output_type": "execute_result"
    }
   ],
   "source": [
    "#Optimization by brute-force method\n",
    "%time a, b = ex_s_2d(D_rat, eps, ((0,1), (-0.999, 1)))\n",
    "a_rat_fit[0] = a\n",
    "b_rat_fit[0] = b\n",
    "a, b"
   ]
  },
  {
   "cell_type": "code",
   "execution_count": 43,
   "metadata": {},
   "outputs": [
    {
     "name": "stdout",
     "output_type": "stream",
     "text": [
      "Number of 𝑓-calculations: 630\n",
      "Number of iterations: 36\n"
     ]
    },
    {
     "data": {
      "text/plain": [
       "(0.650923032490957, -0.3047520864564152)"
      ]
     },
     "execution_count": 43,
     "metadata": {},
     "output_type": "execute_result"
    }
   ],
   "source": [
    "#Optimization by Gauss method\n",
    "a, b = gaus_m(D_rat, eps, ((0, 1), (-0.999, 1)))\n",
    "a_rat_fit[1] = a\n",
    "b_rat_fit[1] = b\n",
    "a, b"
   ]
  },
  {
   "cell_type": "code",
   "execution_count": 44,
   "metadata": {},
   "outputs": [
    {
     "name": "stdout",
     "output_type": "stream",
     "text": [
      " final_simplex: (array([[ 0.6497928 , -0.3067439 ],\n",
      "       [ 0.65015688, -0.30600283],\n",
      "       [ 0.64967741, -0.30614055]]), array([0.9797606 , 0.9797606 , 0.97976071]))\n",
      "           fun: 0.979760596382016\n",
      "       message: 'Optimization terminated successfully.'\n",
      "          nfev: 65\n",
      "           nit: 32\n",
      "        status: 0\n",
      "       success: True\n",
      "             x: array([ 0.6497928, -0.3067439])\n"
     ]
    },
    {
     "data": {
      "text/plain": [
       "(0.649792801948932, -0.3067438959929877)"
      ]
     },
     "execution_count": 44,
     "metadata": {},
     "output_type": "execute_result"
    }
   ],
   "source": [
    "#Optimization by Nelder-Mead method\n",
    "\n",
    "print(minimize(D_rat_NM, x0=(0.5, 0.5), method='Nelder-Mead', options = {'xatol': eps}))\n",
    "a, b = minimize(D_rat_NM, x0=(0.5, 0.5), method='Nelder-Mead', options = {'xatol': eps}).x\n",
    "a_rat_fit[2] = a\n",
    "b_rat_fit[2] = b\n",
    "a, b"
   ]
  },
  {
   "cell_type": "code",
   "execution_count": 45,
   "metadata": {},
   "outputs": [],
   "source": [
    "labels = [f\"Brute-force: $y={round(a_rat_fit[0], 3)} / (1 +{round(b_rat_fit[0], 3)} \\cdot x)$\", \n",
    "          f\"Gauss method: $y={round(a_rat_fit[1], 3)} / (1 +{round(b_rat_fit[1], 3)} \\cdot x)$\",\n",
    "         f\"Nelder-Mead: $y={round(a_rat_fit[2], 3)} / (1 +{round(b_rat_fit[2], 3)} \\cdot x)$\"]"
   ]
  },
  {
   "cell_type": "code",
   "execution_count": 46,
   "metadata": {
    "scrolled": false
   },
   "outputs": [
    {
     "data": {
      "text/plain": [
       "<matplotlib.legend.Legend at 0x214e725ff48>"
      ]
     },
     "execution_count": 46,
     "metadata": {},
     "output_type": "execute_result"
    },
    {
     "data": {
      "image/png": "[encoded data removed]",
      "text/plain": [
       "<Figure size 1080x576 with 1 Axes>"
      ]
     },
     "metadata": {
      "needs_background": "light"
     },
     "output_type": "display_data"
    }
   ],
   "source": [
    "plt.figure(figsize=(15, 8))\n",
    "plt.scatter(x, y, label=f\"Generated data: $y={alpha} \\cdot x +{beta} + N(0,1)$\")\n",
    "for a, b, label in zip(a_rat_fit, b_rat_fit, labels):\n",
    "    plt.plot(x, rat_fit(x, a, b), label=label)\n",
    "plt.plot(x, lin_fit(x, alpha, beta), linestyle='--', label=f\"Theoretical equation: $y={alpha} \\cdot x +{beta}$\")\n",
    "\n",
    "plt.legend()"
   ]
  },
  {
   "cell_type": "code",
   "execution_count": 47,
   "metadata": {},
   "outputs": [
    {
     "name": "stdout",
     "output_type": "stream",
     "text": [
      "0.9797606841727231\n",
      "0.9797610084833761\n",
      "0.979760596382016\n"
     ]
    }
   ],
   "source": [
    "#MSE for different methods\n",
    "for i in range(3):\n",
    "    print(D_rat(a_rat_fit[i], b_rat_fit[i]))"
   ]
  },
  {
   "cell_type": "code",
   "execution_count": 48,
   "metadata": {},
   "outputs": [],
   "source": [
    "#export to file\n",
    "file = open('data_y.txt', 'w')\n",
    "file.write(' '.join(str(i) for i in y))\n",
    "file.close()"
   ]
  },
  {
   "cell_type": "code",
   "execution_count": null,
   "metadata": {},
   "outputs": [],
   "source": []
  }
 ],
 "metadata": {
  "kernelspec": {
   "display_name": "Python 3",
   "language": "python",
   "name": "python3"
  },
  "language_info": {
   "codemirror_mode": {
    "name": "ipython",
    "version": 3
   },
   "file_extension": ".py",
   "mimetype": "text/x-python",
   "name": "python",
   "nbconvert_exporter": "python",
   "pygments_lexer": "ipython3",
   "version": "3.7.6"
  }
 },
 "nbformat": 4,
 "nbformat_minor": 4
}
